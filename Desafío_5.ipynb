{
  "nbformat": 4,
  "nbformat_minor": 0,
  "metadata": {
    "colab": {
      "name": "Desafío_5.ipynb",
      "provenance": [],
      "collapsed_sections": []
    },
    "kernelspec": {
      "name": "python3",
      "display_name": "Python 3"
    },
    "language_info": {
      "name": "python"
    },
    "accelerator": "GPU"
  },
  "cells": [
    {
      "cell_type": "markdown",
      "metadata": {
        "id": "kBLpTr7plguX"
      },
      "source": [
        "<a href=\"https://www.inove.com.ar\"><img src=\"https://github.com/hernancontigiani/ceia_memorias_especializacion/raw/master/Figures/logoFIUBA.jpg\" width=\"500\" align=\"center\"></a>\n",
        "\n",
        "\n",
        "# Procesamiento de lenguaje natural\n",
        "## Sentiment analysis con Embeddings + LSTM"
      ]
    },
    {
      "cell_type": "markdown",
      "metadata": {
        "id": "9W6nuajhlqZD"
      },
      "source": [
        "### Objetivo\n",
        "El objetivo es utilizar las críticas de compradores de ropa para que el sistema determine la evaluación del comprador y su crítica (cuantas estrellas le asigna al producto)."
      ]
    },
    {
      "cell_type": "code",
      "metadata": {
        "id": "hCpOVzJdl8_p"
      },
      "source": [
        "import numpy as np\n",
        "import random\n",
        "import io\n",
        "import pickle\n",
        "import pandas as pd\n",
        "\n",
        "import matplotlib.pyplot as plt\n",
        "import seaborn as sns\n",
        "\n",
        "from tensorflow import keras\n",
        "from tensorflow.keras import layers\n",
        "\n",
        "from keras.utils.np_utils import to_categorical\n",
        "from keras.preprocessing.sequence import pad_sequences\n",
        "from keras.models import Sequential\n",
        "from keras.layers import Dense\n",
        "from keras.layers import LSTM\n",
        "from keras.layers import Embedding"
      ],
      "execution_count": 1,
      "outputs": []
    },
    {
      "cell_type": "markdown",
      "metadata": {
        "id": "8UPeRkrAmbF3"
      },
      "source": [
        "### Datos\n",
        "Utilizaremos como dataset críticas de compradores de ropa (eCommerce) los cuales puntuaron a cada prenda con un puntaje de 1 a 5 estrellas.\\\n",
        "Referencia del dataset: [LINK](https://www.kaggle.com/nicapotato/womens-ecommerce-clothing-reviews/version/1)"
      ]
    },
    {
      "cell_type": "code",
      "metadata": {
        "id": "C7jLvTU3lSyL",
        "colab": {
          "base_uri": "https://localhost:8080/"
        },
        "outputId": "79ef174b-c803-499c-94d3-88a074e6c996"
      },
      "source": [
        "# Descargar la carpeta de dataset\n",
        "import os\n",
        "import gdown\n",
        "if os.access('clothing_ecommerce_reviews.csv', os.F_OK) is False:\n",
        "    url = 'https://drive.google.com/uc?id=1k2Dz4oY5uxI3JEaT6m-L2T2HvLkECYIP'\n",
        "    output = 'clothing_ecommerce_reviews.csv'\n",
        "    gdown.download(url, output, quiet=False)\n",
        "else:\n",
        "    print(\"El dataset ya se encuentra descargado\")"
      ],
      "execution_count": 2,
      "outputs": [
        {
          "output_type": "stream",
          "name": "stderr",
          "text": [
            "Downloading...\n",
            "From: https://drive.google.com/uc?id=1k2Dz4oY5uxI3JEaT6m-L2T2HvLkECYIP\n",
            "To: /content/clothing_ecommerce_reviews.csv\n",
            "100%|██████████| 8.48M/8.48M [00:00<00:00, 110MB/s]\n"
          ]
        }
      ]
    },
    {
      "cell_type": "code",
      "metadata": {
        "id": "o-SV1P3dnD1J",
        "colab": {
          "base_uri": "https://localhost:8080/",
          "height": 203
        },
        "outputId": "7cf66550-1e52-45f4-9011-06db3a2df5dd"
      },
      "source": [
        "# Armar el dataset\n",
        "df = pd.read_csv('clothing_ecommerce_reviews.csv')\n",
        "df.drop(columns = ['Unnamed: 0'], inplace = True)\n",
        "df.head()"
      ],
      "execution_count": 3,
      "outputs": [
        {
          "output_type": "execute_result",
          "data": {
            "text/html": [
              "<div>\n",
              "<style scoped>\n",
              "    .dataframe tbody tr th:only-of-type {\n",
              "        vertical-align: middle;\n",
              "    }\n",
              "\n",
              "    .dataframe tbody tr th {\n",
              "        vertical-align: top;\n",
              "    }\n",
              "\n",
              "    .dataframe thead th {\n",
              "        text-align: right;\n",
              "    }\n",
              "</style>\n",
              "<table border=\"1\" class=\"dataframe\">\n",
              "  <thead>\n",
              "    <tr style=\"text-align: right;\">\n",
              "      <th></th>\n",
              "      <th>Clothing ID</th>\n",
              "      <th>Age</th>\n",
              "      <th>Title</th>\n",
              "      <th>Review Text</th>\n",
              "      <th>Rating</th>\n",
              "      <th>Recommended IND</th>\n",
              "      <th>Positive Feedback Count</th>\n",
              "      <th>Division Name</th>\n",
              "      <th>Department Name</th>\n",
              "      <th>Class Name</th>\n",
              "    </tr>\n",
              "  </thead>\n",
              "  <tbody>\n",
              "    <tr>\n",
              "      <th>0</th>\n",
              "      <td>767</td>\n",
              "      <td>33</td>\n",
              "      <td>NaN</td>\n",
              "      <td>Absolutely wonderful - silky and sexy and comf...</td>\n",
              "      <td>4</td>\n",
              "      <td>1</td>\n",
              "      <td>0</td>\n",
              "      <td>Initmates</td>\n",
              "      <td>Intimate</td>\n",
              "      <td>Intimates</td>\n",
              "    </tr>\n",
              "    <tr>\n",
              "      <th>1</th>\n",
              "      <td>1080</td>\n",
              "      <td>34</td>\n",
              "      <td>NaN</td>\n",
              "      <td>Love this dress!  it's sooo pretty.  i happene...</td>\n",
              "      <td>5</td>\n",
              "      <td>1</td>\n",
              "      <td>4</td>\n",
              "      <td>General</td>\n",
              "      <td>Dresses</td>\n",
              "      <td>Dresses</td>\n",
              "    </tr>\n",
              "    <tr>\n",
              "      <th>2</th>\n",
              "      <td>1077</td>\n",
              "      <td>60</td>\n",
              "      <td>Some major design flaws</td>\n",
              "      <td>I had such high hopes for this dress and reall...</td>\n",
              "      <td>3</td>\n",
              "      <td>0</td>\n",
              "      <td>0</td>\n",
              "      <td>General</td>\n",
              "      <td>Dresses</td>\n",
              "      <td>Dresses</td>\n",
              "    </tr>\n",
              "    <tr>\n",
              "      <th>3</th>\n",
              "      <td>1049</td>\n",
              "      <td>50</td>\n",
              "      <td>My favorite buy!</td>\n",
              "      <td>I love, love, love this jumpsuit. it's fun, fl...</td>\n",
              "      <td>5</td>\n",
              "      <td>1</td>\n",
              "      <td>0</td>\n",
              "      <td>General Petite</td>\n",
              "      <td>Bottoms</td>\n",
              "      <td>Pants</td>\n",
              "    </tr>\n",
              "    <tr>\n",
              "      <th>4</th>\n",
              "      <td>847</td>\n",
              "      <td>47</td>\n",
              "      <td>Flattering shirt</td>\n",
              "      <td>This shirt is very flattering to all due to th...</td>\n",
              "      <td>5</td>\n",
              "      <td>1</td>\n",
              "      <td>6</td>\n",
              "      <td>General</td>\n",
              "      <td>Tops</td>\n",
              "      <td>Blouses</td>\n",
              "    </tr>\n",
              "  </tbody>\n",
              "</table>\n",
              "</div>"
            ],
            "text/plain": [
              "   Clothing ID  Age  ... Department Name Class Name\n",
              "0          767   33  ...        Intimate  Intimates\n",
              "1         1080   34  ...         Dresses    Dresses\n",
              "2         1077   60  ...         Dresses    Dresses\n",
              "3         1049   50  ...         Bottoms      Pants\n",
              "4          847   47  ...            Tops    Blouses\n",
              "\n",
              "[5 rows x 10 columns]"
            ]
          },
          "metadata": {},
          "execution_count": 3
        }
      ]
    },
    {
      "cell_type": "markdown",
      "metadata": {
        "id": "q-OwSePKm-FK"
      },
      "source": [
        "### 1 - Limpieza de datos\n",
        "Alumno:\n",
        "- Del dataset unicamente utilizar las columnas \"Review Text\" y \"Rating.\n",
        "- Tranformar el rating 1-5 a una escala numérica de 0 a 4.\n",
        "\n"
      ]
    },
    {
      "cell_type": "code",
      "metadata": {
        "id": "-hc7-AmYnPC3",
        "colab": {
          "base_uri": "https://localhost:8080/",
          "height": 203
        },
        "outputId": "25ff6cc2-0b33-48ec-92b7-b29111bd41ce"
      },
      "source": [
        "df_reviews = df.loc[:, ['Review Text', 'Rating']].dropna()\n",
        "df_reviews['Rating'] = df_reviews['Rating'] - 1\n",
        "df_reviews.head()"
      ],
      "execution_count": 4,
      "outputs": [
        {
          "output_type": "execute_result",
          "data": {
            "text/html": [
              "<div>\n",
              "<style scoped>\n",
              "    .dataframe tbody tr th:only-of-type {\n",
              "        vertical-align: middle;\n",
              "    }\n",
              "\n",
              "    .dataframe tbody tr th {\n",
              "        vertical-align: top;\n",
              "    }\n",
              "\n",
              "    .dataframe thead th {\n",
              "        text-align: right;\n",
              "    }\n",
              "</style>\n",
              "<table border=\"1\" class=\"dataframe\">\n",
              "  <thead>\n",
              "    <tr style=\"text-align: right;\">\n",
              "      <th></th>\n",
              "      <th>Review Text</th>\n",
              "      <th>Rating</th>\n",
              "    </tr>\n",
              "  </thead>\n",
              "  <tbody>\n",
              "    <tr>\n",
              "      <th>0</th>\n",
              "      <td>Absolutely wonderful - silky and sexy and comf...</td>\n",
              "      <td>3</td>\n",
              "    </tr>\n",
              "    <tr>\n",
              "      <th>1</th>\n",
              "      <td>Love this dress!  it's sooo pretty.  i happene...</td>\n",
              "      <td>4</td>\n",
              "    </tr>\n",
              "    <tr>\n",
              "      <th>2</th>\n",
              "      <td>I had such high hopes for this dress and reall...</td>\n",
              "      <td>2</td>\n",
              "    </tr>\n",
              "    <tr>\n",
              "      <th>3</th>\n",
              "      <td>I love, love, love this jumpsuit. it's fun, fl...</td>\n",
              "      <td>4</td>\n",
              "    </tr>\n",
              "    <tr>\n",
              "      <th>4</th>\n",
              "      <td>This shirt is very flattering to all due to th...</td>\n",
              "      <td>4</td>\n",
              "    </tr>\n",
              "  </tbody>\n",
              "</table>\n",
              "</div>"
            ],
            "text/plain": [
              "                                         Review Text  Rating\n",
              "0  Absolutely wonderful - silky and sexy and comf...       3\n",
              "1  Love this dress!  it's sooo pretty.  i happene...       4\n",
              "2  I had such high hopes for this dress and reall...       2\n",
              "3  I love, love, love this jumpsuit. it's fun, fl...       4\n",
              "4  This shirt is very flattering to all due to th...       4"
            ]
          },
          "metadata": {},
          "execution_count": 4
        }
      ]
    },
    {
      "cell_type": "code",
      "metadata": {
        "id": "sZtvASVOn3ty",
        "colab": {
          "base_uri": "https://localhost:8080/",
          "height": 279
        },
        "outputId": "2e1cf71d-0b40-416a-c20c-47ad2d3e9582"
      },
      "source": [
        "# Alumno: Observar como está distribuido el dataset respecto a la columna Rating\n",
        "# es decir, observar que tan balanceado se encuentra respecot a cada clase\n",
        "\n",
        "sns.countplot(x='Rating', data=df_reviews)\n",
        "plt.show()"
      ],
      "execution_count": 5,
      "outputs": [
        {
          "output_type": "display_data",
          "data": {
            "image/png": "[encoded data removed]",
            "text/plain": [
              "<Figure size 432x288 with 1 Axes>"
            ]
          },
          "metadata": {
            "needs_background": "light"
          }
        }
      ]
    },
    {
      "cell_type": "markdown",
      "metadata": {
        "id": "T8BUtEGh7qvR"
      },
      "source": [
        "Podemos ver que el dataset no se encuentra muy balanceado, con muy poco rating para la crítica 0 y mucho para la critica de valor 4. "
      ]
    },
    {
      "cell_type": "code",
      "metadata": {
        "id": "gVJ_RVi4o1h3"
      },
      "source": [
        "# Alumno: tomar la columna de las review y almacenarlo todo en un vector numpy de reviews\n",
        "text_sequences = df_reviews['Review Text'].values"
      ],
      "execution_count": 6,
      "outputs": []
    },
    {
      "cell_type": "code",
      "metadata": {
        "id": "4nT5Un_co65Q",
        "colab": {
          "base_uri": "https://localhost:8080/"
        },
        "outputId": "1bc99ff1-e9e1-4000-f3ba-29154df4fa45"
      },
      "source": [
        "# Alumno: Cuantas reviews (rows) hay para evaluar?\n",
        "text_sequences.shape"
      ],
      "execution_count": 7,
      "outputs": [
        {
          "output_type": "execute_result",
          "data": {
            "text/plain": [
              "(22641,)"
            ]
          },
          "metadata": {},
          "execution_count": 7
        }
      ]
    },
    {
      "cell_type": "code",
      "metadata": {
        "id": "HP5uN9tqpHu_"
      },
      "source": [
        "# Alumno: Concatenar todas las reviews para armar el corpus\n",
        "corpus = ' '.join(text_sequences)"
      ],
      "execution_count": 8,
      "outputs": []
    },
    {
      "cell_type": "code",
      "metadata": {
        "id": "FEzmePgdpf74",
        "colab": {
          "base_uri": "https://localhost:8080/"
        },
        "outputId": "94d24561-eb72-4763-c437-39fbec837fef"
      },
      "source": [
        "# Alumno: ¿Cuál es la longitud de ese corpus?\n",
        "len(corpus)"
      ],
      "execution_count": 9,
      "outputs": [
        {
          "output_type": "execute_result",
          "data": {
            "text/plain": [
              "7011643"
            ]
          },
          "metadata": {},
          "execution_count": 9
        }
      ]
    },
    {
      "cell_type": "code",
      "metadata": {
        "id": "MYeJLdDmpvOe"
      },
      "source": [
        "# Alumno: Utilizar \"text_to_word_sequence\" para separar las palabras en tokens\n",
        "# recordar que text_to_word_sequence automaticamente quita los signos de puntuacion y pasa el texto a lowercase\n",
        "from keras.preprocessing.text import text_to_word_sequence\n",
        "tokens = text_to_word_sequence(corpus)"
      ],
      "execution_count": 10,
      "outputs": []
    },
    {
      "cell_type": "code",
      "metadata": {
        "id": "M6L-fnWAp_lA",
        "colab": {
          "base_uri": "https://localhost:8080/"
        },
        "outputId": "46190484-ec3e-4385-eb31-b5fb81ca3d4d"
      },
      "source": [
        "# Alumno: Dar un vistazo a los primeros 20 tokens/palabras\n",
        "tokens [:20]"
      ],
      "execution_count": 11,
      "outputs": [
        {
          "output_type": "execute_result",
          "data": {
            "text/plain": [
              "['absolutely',\n",
              " 'wonderful',\n",
              " 'silky',\n",
              " 'and',\n",
              " 'sexy',\n",
              " 'and',\n",
              " 'comfortable',\n",
              " 'love',\n",
              " 'this',\n",
              " 'dress',\n",
              " \"it's\",\n",
              " 'sooo',\n",
              " 'pretty',\n",
              " 'i',\n",
              " 'happened',\n",
              " 'to',\n",
              " 'find',\n",
              " 'it',\n",
              " 'in',\n",
              " 'a']"
            ]
          },
          "metadata": {},
          "execution_count": 11
        }
      ]
    },
    {
      "cell_type": "code",
      "metadata": {
        "id": "-8QgwwMUqG0d",
        "colab": {
          "base_uri": "https://localhost:8080/"
        },
        "outputId": "804ededb-d8ed-42f7-ec6f-8c2b6125afd5"
      },
      "source": [
        "# Alumno: ¿Cuántos tokens/palabras hay?\n",
        "len(tokens)"
      ],
      "execution_count": 12,
      "outputs": [
        {
          "output_type": "execute_result",
          "data": {
            "text/plain": [
              "1372203"
            ]
          },
          "metadata": {},
          "execution_count": 12
        }
      ]
    },
    {
      "cell_type": "markdown",
      "metadata": {
        "id": "m84XVy0iDYFq"
      },
      "source": [
        "Pasamos de 7 millones a 1,3 millones, porque sacamos los símbolos, los espacios y otras cosas que estaban en el medio"
      ]
    },
    {
      "cell_type": "markdown",
      "metadata": {
        "id": "DB0kDKD7EWBE"
      },
      "source": [
        "Ahora armamos el tokenizador. Necesitamos obtener nuestro vocabulario y ID's del vocabulario. "
      ]
    },
    {
      "cell_type": "code",
      "metadata": {
        "id": "TFukNZdOsZ8_"
      },
      "source": [
        "# Alumno: Tokenizar las palabras con el Tokenizer de Keras\n",
        "# Definir una máxima cantidad de palabras a utilizar:\n",
        "# num_words --> the maximum number of words to keep, based on word frequency.\n",
        "# Only the most common num_words-1 words will be kept.\n",
        "from keras.preprocessing.text import Tokenizer\n",
        "num_words = 1500\n",
        "vocab_size = num_words\n",
        "tok = Tokenizer(num_words=2000) \n",
        "tok.fit_on_texts(tokens)"
      ],
      "execution_count": 13,
      "outputs": []
    },
    {
      "cell_type": "code",
      "metadata": {
        "id": "JnR1tlqZy94X",
        "colab": {
          "base_uri": "https://localhost:8080/"
        },
        "outputId": "48439fae-f204-418a-8d0f-45c30633f507"
      },
      "source": [
        "# Alumno: Obtener el diccionario de palabra (word) a índice\n",
        "# y observar la cantidad total del vocabulario\n",
        "word_index = tok.word_index\n",
        "len(word_index)"
      ],
      "execution_count": 14,
      "outputs": [
        {
          "output_type": "execute_result",
          "data": {
            "text/plain": [
              "14847"
            ]
          },
          "metadata": {},
          "execution_count": 14
        }
      ]
    },
    {
      "cell_type": "markdown",
      "metadata": {
        "id": "0tq6qT2EFuEb"
      },
      "source": [
        "Tenemos 14.847 IDs. Vemos un poco como es, al ver que cada palabra tiene un ID\n"
      ]
    },
    {
      "cell_type": "code",
      "metadata": {
        "colab": {
          "base_uri": "https://localhost:8080/"
        },
        "id": "ZVokt84RF0Wm",
        "outputId": "ff4af339-7b85-4e64-a498-1f6bd3b50980"
      },
      "source": [
        "tok.word_index"
      ],
      "execution_count": 15,
      "outputs": [
        {
          "output_type": "execute_result",
          "data": {
            "text/plain": [
              "{'the': 1,\n",
              " 'i': 2,\n",
              " 'and': 3,\n",
              " 'a': 4,\n",
              " 'it': 5,\n",
              " 'is': 6,\n",
              " 'this': 7,\n",
              " 'to': 8,\n",
              " 'in': 9,\n",
              " 'but': 10,\n",
              " 'on': 11,\n",
              " 'for': 12,\n",
              " 'of': 13,\n",
              " 'with': 14,\n",
              " 'was': 15,\n",
              " 'so': 16,\n",
              " 'my': 17,\n",
              " 'dress': 18,\n",
              " 'not': 19,\n",
              " 'that': 20,\n",
              " 'love': 21,\n",
              " 'size': 22,\n",
              " 'very': 23,\n",
              " 'have': 24,\n",
              " 'top': 25,\n",
              " 'fit': 26,\n",
              " 'are': 27,\n",
              " 'like': 28,\n",
              " 'be': 29,\n",
              " 'as': 30,\n",
              " 'me': 31,\n",
              " 'wear': 32,\n",
              " \"it's\": 33,\n",
              " 'great': 34,\n",
              " 'too': 35,\n",
              " \"i'm\": 36,\n",
              " 'or': 37,\n",
              " 'am': 38,\n",
              " 'just': 39,\n",
              " 'you': 40,\n",
              " 'would': 41,\n",
              " 'they': 42,\n",
              " 'up': 43,\n",
              " 'at': 44,\n",
              " 'fabric': 45,\n",
              " 'small': 46,\n",
              " 'color': 47,\n",
              " 'look': 48,\n",
              " 'if': 49,\n",
              " 'more': 50,\n",
              " 'really': 51,\n",
              " 'ordered': 52,\n",
              " 'little': 53,\n",
              " 'perfect': 54,\n",
              " 'will': 55,\n",
              " 'one': 56,\n",
              " 'these': 57,\n",
              " 'flattering': 58,\n",
              " 'well': 59,\n",
              " 'an': 60,\n",
              " 'soft': 61,\n",
              " 'out': 62,\n",
              " 'back': 63,\n",
              " 'because': 64,\n",
              " 'had': 65,\n",
              " 'can': 66,\n",
              " '\\r': 67,\n",
              " 'comfortable': 68,\n",
              " 'cute': 69,\n",
              " 'nice': 70,\n",
              " 'than': 71,\n",
              " 'bought': 72,\n",
              " 'beautiful': 73,\n",
              " 'when': 74,\n",
              " 'all': 75,\n",
              " 'looks': 76,\n",
              " 'bit': 77,\n",
              " 'fits': 78,\n",
              " 'large': 79,\n",
              " 'shirt': 80,\n",
              " 'down': 81,\n",
              " 'which': 82,\n",
              " 'material': 83,\n",
              " 'much': 84,\n",
              " 'them': 85,\n",
              " 'length': 86,\n",
              " 'also': 87,\n",
              " 'sweater': 88,\n",
              " 'has': 89,\n",
              " 'long': 90,\n",
              " 'got': 91,\n",
              " 'jeans': 92,\n",
              " 'colors': 93,\n",
              " 'waist': 94,\n",
              " 'petite': 95,\n",
              " 'quality': 96,\n",
              " 'medium': 97,\n",
              " 'xs': 98,\n",
              " 'pretty': 99,\n",
              " 'think': 100,\n",
              " 'even': 101,\n",
              " 'work': 102,\n",
              " 'retailer': 103,\n",
              " 'tried': 104,\n",
              " 'from': 105,\n",
              " 'store': 106,\n",
              " 'usually': 107,\n",
              " 'other': 108,\n",
              " 'skirt': 109,\n",
              " 'about': 110,\n",
              " 'good': 111,\n",
              " 'made': 112,\n",
              " 'pants': 113,\n",
              " 'short': 114,\n",
              " 'get': 115,\n",
              " 'way': 116,\n",
              " 'only': 117,\n",
              " 'could': 118,\n",
              " 'big': 119,\n",
              " 'cut': 120,\n",
              " 'see': 121,\n",
              " \"don't\": 122,\n",
              " 'black': 123,\n",
              " \"didn't\": 124,\n",
              " 'still': 125,\n",
              " 'were': 126,\n",
              " 'right': 127,\n",
              " 'super': 128,\n",
              " 'there': 129,\n",
              " 'true': 130,\n",
              " 'did': 131,\n",
              " 'runs': 132,\n",
              " 'style': 133,\n",
              " 'do': 134,\n",
              " 'sleeves': 135,\n",
              " 'online': 136,\n",
              " 'no': 137,\n",
              " 'summer': 138,\n",
              " 'purchased': 139,\n",
              " 'white': 140,\n",
              " 'wearing': 141,\n",
              " 'design': 142,\n",
              " 'however': 143,\n",
              " 'does': 144,\n",
              " 'feel': 145,\n",
              " 'off': 146,\n",
              " 'go': 147,\n",
              " 'tight': 148,\n",
              " 'enough': 149,\n",
              " 'perfectly': 150,\n",
              " 'over': 151,\n",
              " 'some': 152,\n",
              " 'model': 153,\n",
              " '4': 154,\n",
              " 'definitely': 155,\n",
              " 'front': 156,\n",
              " 'looked': 157,\n",
              " 'sale': 158,\n",
              " 'though': 159,\n",
              " '2': 160,\n",
              " 'blue': 161,\n",
              " 'price': 162,\n",
              " 'person': 163,\n",
              " 'lbs': 164,\n",
              " 'loved': 165,\n",
              " 'been': 166,\n",
              " 'how': 167,\n",
              " 'what': 168,\n",
              " 'better': 169,\n",
              " 'jacket': 170,\n",
              " 'first': 171,\n",
              " 'fall': 172,\n",
              " 'your': 173,\n",
              " 'body': 174,\n",
              " 'bottom': 175,\n",
              " 'going': 176,\n",
              " 'loose': 177,\n",
              " 'high': 178,\n",
              " 'try': 179,\n",
              " '6': 180,\n",
              " 'worn': 181,\n",
              " 'around': 182,\n",
              " 'time': 183,\n",
              " 'regular': 184,\n",
              " 'looking': 185,\n",
              " 'shape': 186,\n",
              " 'light': 187,\n",
              " 'many': 188,\n",
              " 'both': 189,\n",
              " 'chest': 190,\n",
              " 'thought': 191,\n",
              " 'make': 192,\n",
              " 'lovely': 193,\n",
              " 'arms': 194,\n",
              " 'wanted': 195,\n",
              " 'saw': 196,\n",
              " 'gorgeous': 197,\n",
              " 'piece': 198,\n",
              " 's': 199,\n",
              " 'shoulders': 200,\n",
              " 'casual': 201,\n",
              " 'thin': 202,\n",
              " 'through': 203,\n",
              " 'makes': 204,\n",
              " 'recommend': 205,\n",
              " 'after': 206,\n",
              " 'without': 207,\n",
              " 'bust': 208,\n",
              " \"doesn't\": 209,\n",
              " 'compliments': 210,\n",
              " 'pattern': 211,\n",
              " 'need': 212,\n",
              " 'being': 213,\n",
              " 'went': 214,\n",
              " 'side': 215,\n",
              " 'want': 216,\n",
              " 'run': 217,\n",
              " 'tops': 218,\n",
              " 'found': 219,\n",
              " 'blouse': 220,\n",
              " 'find': 221,\n",
              " 'pair': 222,\n",
              " 'bra': 223,\n",
              " 'sure': 224,\n",
              " 'reviews': 225,\n",
              " 'weight': 226,\n",
              " 'wore': 227,\n",
              " 'wish': 228,\n",
              " \"can't\": 229,\n",
              " 'picture': 230,\n",
              " \"i've\": 231,\n",
              " 'print': 232,\n",
              " 'buy': 233,\n",
              " 'hips': 234,\n",
              " 'since': 235,\n",
              " 'usual': 236,\n",
              " '8': 237,\n",
              " 'dresses': 238,\n",
              " 'normally': 239,\n",
              " 'by': 240,\n",
              " 'order': 241,\n",
              " 'comfy': 242,\n",
              " 'received': 243,\n",
              " 'different': 244,\n",
              " 'its': 245,\n",
              " 'lot': 246,\n",
              " 'while': 247,\n",
              " 'longer': 248,\n",
              " 'm': 249,\n",
              " 'overall': 250,\n",
              " 'any': 251,\n",
              " 'most': 252,\n",
              " 'absolutely': 253,\n",
              " 'may': 254,\n",
              " 'quite': 255,\n",
              " 'fitted': 256,\n",
              " 'detail': 257,\n",
              " 'nicely': 258,\n",
              " 'slightly': 259,\n",
              " 'keep': 260,\n",
              " 'return': 261,\n",
              " 'two': 262,\n",
              " 'day': 263,\n",
              " 'then': 264,\n",
              " '5': 265,\n",
              " 'green': 266,\n",
              " 'felt': 267,\n",
              " 'leggings': 268,\n",
              " 'might': 269,\n",
              " 'red': 270,\n",
              " 'another': 271,\n",
              " 'under': 272,\n",
              " 'underneath': 273,\n",
              " 'wide': 274,\n",
              " 'stretch': 275,\n",
              " 'neck': 276,\n",
              " 'easy': 277,\n",
              " 'unique': 278,\n",
              " 'say': 279,\n",
              " 'now': 280,\n",
              " 'lace': 281,\n",
              " \"wasn't\": 282,\n",
              " 'fun': 283,\n",
              " 'boxy': 284,\n",
              " 'extra': 285,\n",
              " 'probably': 286,\n",
              " 'happy': 287,\n",
              " '10': 288,\n",
              " 'almost': 289,\n",
              " 'sizing': 290,\n",
              " 'actually': 291,\n",
              " 'photo': 292,\n",
              " 'tank': 293,\n",
              " 'something': 294,\n",
              " 'warm': 295,\n",
              " 'sizes': 296,\n",
              " 'low': 297,\n",
              " 'area': 298,\n",
              " 'smaller': 299,\n",
              " 'sheer': 300,\n",
              " 'fine': 301,\n",
              " 'unfortunately': 302,\n",
              " 'flowy': 303,\n",
              " 'pockets': 304,\n",
              " 'dressed': 305,\n",
              " 'purchase': 306,\n",
              " 't': 307,\n",
              " 'worth': 308,\n",
              " 'feels': 309,\n",
              " \"5'4\": 310,\n",
              " 'tee': 311,\n",
              " 'such': 312,\n",
              " 'into': 313,\n",
              " 'glad': 314,\n",
              " 'full': 315,\n",
              " 'every': 316,\n",
              " 'shorter': 317,\n",
              " 'same': 318,\n",
              " 'said': 319,\n",
              " 'between': 320,\n",
              " 'boots': 321,\n",
              " 'tall': 322,\n",
              " 'put': 323,\n",
              " 'give': 324,\n",
              " 'sized': 325,\n",
              " 'yet': 326,\n",
              " 'always': 327,\n",
              " 'tts': 328,\n",
              " 'disappointed': 329,\n",
              " 'reference': 330,\n",
              " 'spring': 331,\n",
              " 'everything': 332,\n",
              " 'buttons': 333,\n",
              " 'navy': 334,\n",
              " 'line': 335,\n",
              " 'denim': 336,\n",
              " 'skinny': 337,\n",
              " 'wait': 338,\n",
              " 'maybe': 339,\n",
              " 'versatile': 340,\n",
              " 'decided': 341,\n",
              " 'larger': 342,\n",
              " 'part': 343,\n",
              " 'neckline': 344,\n",
              " 'adorable': 345,\n",
              " 'liked': 346,\n",
              " 'should': 347,\n",
              " 'huge': 348,\n",
              " 'winter': 349,\n",
              " 'above': 350,\n",
              " 'thick': 351,\n",
              " 'favorite': 352,\n",
              " 'where': 353,\n",
              " 'especially': 354,\n",
              " 'easily': 355,\n",
              " 'fitting': 356,\n",
              " \"i'd\": 357,\n",
              " 'returned': 358,\n",
              " 'problem': 359,\n",
              " 'grey': 360,\n",
              " 'figure': 361,\n",
              " 'shorts': 362,\n",
              " 'pink': 363,\n",
              " 'came': 364,\n",
              " 'details': 365,\n",
              " 'best': 366,\n",
              " 'heavy': 367,\n",
              " 'thing': 368,\n",
              " 'snug': 369,\n",
              " 'wash': 370,\n",
              " 'button': 371,\n",
              " 'seems': 372,\n",
              " \"isn't\": 373,\n",
              " 'take': 374,\n",
              " 'room': 375,\n",
              " 'slip': 376,\n",
              " 'amazing': 377,\n",
              " 'reviewers': 378,\n",
              " 'coat': 379,\n",
              " '3': 380,\n",
              " 'normal': 381,\n",
              " 'lightweight': 382,\n",
              " 'cotton': 383,\n",
              " \"5'3\": 384,\n",
              " 'feminine': 385,\n",
              " 'hem': 386,\n",
              " \"couldn't\": 387,\n",
              " 'tunic': 388,\n",
              " 'pictured': 389,\n",
              " 'know': 390,\n",
              " 'few': 391,\n",
              " 'knee': 392,\n",
              " 'knit': 393,\n",
              " 'l': 394,\n",
              " 'cardigan': 395,\n",
              " 'took': 396,\n",
              " 'kind': 397,\n",
              " 'cami': 398,\n",
              " \"that's\": 399,\n",
              " 'expected': 400,\n",
              " 'dark': 401,\n",
              " 'goes': 402,\n",
              " 'torso': 403,\n",
              " 'hit': 404,\n",
              " 'embroidery': 405,\n",
              " 'belt': 406,\n",
              " '12': 407,\n",
              " 'curvy': 408,\n",
              " 'returning': 409,\n",
              " \"5'5\": 410,\n",
              " 'beautifully': 411,\n",
              " 'reviewer': 412,\n",
              " \"5'2\": 413,\n",
              " 'arm': 414,\n",
              " '0': 415,\n",
              " 'hits': 416,\n",
              " 'extremely': 417,\n",
              " 'xl': 418,\n",
              " 'lined': 419,\n",
              " 'lining': 420,\n",
              " 'show': 421,\n",
              " 'frame': 422,\n",
              " 'typically': 423,\n",
              " 'works': 424,\n",
              " 'once': 425,\n",
              " 'although': 426,\n",
              " 'able': 427,\n",
              " \"i'll\": 428,\n",
              " 'never': 429,\n",
              " 'before': 430,\n",
              " 'excited': 431,\n",
              " 'legs': 432,\n",
              " 'highly': 433,\n",
              " 'washed': 434,\n",
              " 'anything': 435,\n",
              " 'today': 436,\n",
              " 'either': 437,\n",
              " 'someone': 438,\n",
              " 'who': 439,\n",
              " 'year': 440,\n",
              " 'those': 441,\n",
              " 'shown': 442,\n",
              " 'sleeve': 443,\n",
              " 'xxs': 444,\n",
              " 'bad': 445,\n",
              " \"5'7\": 446,\n",
              " 'new': 447,\n",
              " 'ended': 448,\n",
              " 'issue': 449,\n",
              " 'sold': 450,\n",
              " 'photos': 451,\n",
              " 'weather': 452,\n",
              " 'things': 453,\n",
              " 'below': 454,\n",
              " 'already': 455,\n",
              " 'stretchy': 456,\n",
              " 'shoulder': 457,\n",
              " 'trying': 458,\n",
              " \"5'6\": 459,\n",
              " 'cool': 460,\n",
              " \"you're\": 461,\n",
              " 'gray': 462,\n",
              " 'needed': 463,\n",
              " 'type': 464,\n",
              " 'holes': 465,\n",
              " 'agree': 466,\n",
              " 'tie': 467,\n",
              " 'last': 468,\n",
              " 'zipper': 469,\n",
              " 'arrived': 470,\n",
              " 'otherwise': 471,\n",
              " 'hard': 472,\n",
              " 'fell': 473,\n",
              " 'why': 474,\n",
              " 'layer': 475,\n",
              " 'hoping': 476,\n",
              " 'days': 477,\n",
              " 'exactly': 478,\n",
              " 'wardrobe': 479,\n",
              " 'brand': 480,\n",
              " 'cozy': 481,\n",
              " 'orange': 482,\n",
              " 'suit': 483,\n",
              " 'come': 484,\n",
              " 'add': 485,\n",
              " 'due': 486,\n",
              " '26': 487,\n",
              " 'across': 488,\n",
              " 'cheap': 489,\n",
              " 'inches': 490,\n",
              " 'straps': 491,\n",
              " 'vest': 492,\n",
              " 'sadly': 493,\n",
              " 'local': 494,\n",
              " 'hot': 495,\n",
              " 'skin': 496,\n",
              " 'away': 497,\n",
              " 'again': 498,\n",
              " 'swing': 499,\n",
              " 'unflattering': 500,\n",
              " \"5'8\": 501,\n",
              " 'least': 502,\n",
              " 'heels': 503,\n",
              " '1': 504,\n",
              " 'ever': 505,\n",
              " \"wouldn't\": 506,\n",
              " 'tad': 507,\n",
              " 'sides': 508,\n",
              " \"5'\": 509,\n",
              " 'rather': 510,\n",
              " 'keeping': 511,\n",
              " 'open': 512,\n",
              " 'stylish': 513,\n",
              " 'dry': 514,\n",
              " 'getting': 515,\n",
              " 'ran': 516,\n",
              " 'must': 517,\n",
              " 'vibrant': 518,\n",
              " 'classic': 519,\n",
              " \"they're\": 520,\n",
              " 'plan': 521,\n",
              " 'straight': 522,\n",
              " 'baggy': 523,\n",
              " 'slim': 524,\n",
              " 'others': 525,\n",
              " 'pictures': 526,\n",
              " 'several': 527,\n",
              " 'plus': 528,\n",
              " 'delicate': 529,\n",
              " 'pilcro': 530,\n",
              " 'surprised': 531,\n",
              " 'wonderful': 532,\n",
              " 'nothing': 533,\n",
              " 'less': 534,\n",
              " 'pull': 535,\n",
              " 'touch': 536,\n",
              " 'kept': 537,\n",
              " 'pounds': 538,\n",
              " 'ordering': 539,\n",
              " 'item': 540,\n",
              " 'based': 541,\n",
              " 'roomy': 542,\n",
              " 'waisted': 543,\n",
              " 'seem': 544,\n",
              " 'stunning': 545,\n",
              " 'bright': 546,\n",
              " 'yellow': 547,\n",
              " 'simple': 548,\n",
              " 'drapes': 549,\n",
              " 'drape': 550,\n",
              " 'use': 551,\n",
              " 'years': 552,\n",
              " 'shirts': 553,\n",
              " 'cropped': 554,\n",
              " 'hangs': 555,\n",
              " 'sometimes': 556,\n",
              " '27': 557,\n",
              " 'their': 558,\n",
              " 'available': 559,\n",
              " 'itchy': 560,\n",
              " 'worked': 561,\n",
              " 'v': 562,\n",
              " 'paired': 563,\n",
              " 'night': 564,\n",
              " 'review': 565,\n",
              " 'version': 566,\n",
              " 'ankle': 567,\n",
              " 'gives': 568,\n",
              " 'bigger': 569,\n",
              " 'flat': 570,\n",
              " 'instead': 571,\n",
              " 'own': 572,\n",
              " 'myself': 573,\n",
              " 'far': 574,\n",
              " 'skirts': 575,\n",
              " 'seemed': 576,\n",
              " 'tights': 577,\n",
              " 'times': 578,\n",
              " '28': 579,\n",
              " 'here': 580,\n",
              " 'previous': 581,\n",
              " 'buying': 582,\n",
              " 'busty': 583,\n",
              " 'tiny': 584,\n",
              " 'immediately': 585,\n",
              " 'comes': 586,\n",
              " 'oversized': 587,\n",
              " 'special': 588,\n",
              " 'having': 589,\n",
              " 'lots': 590,\n",
              " 'she': 591,\n",
              " 'wedding': 592,\n",
              " 'mine': 593,\n",
              " \"won't\": 594,\n",
              " 'mentioned': 595,\n",
              " 'falls': 596,\n",
              " 'making': 597,\n",
              " 'ivory': 598,\n",
              " 'end': 599,\n",
              " 'adds': 600,\n",
              " 'elastic': 601,\n",
              " \"5'1\": 602,\n",
              " \"5'9\": 603,\n",
              " 'cover': 604,\n",
              " 'staple': 605,\n",
              " 'cold': 606,\n",
              " '115': 607,\n",
              " 'lower': 608,\n",
              " 'season': 609,\n",
              " 'higher': 610,\n",
              " 'athletic': 611,\n",
              " 'completely': 612,\n",
              " 'collar': 613,\n",
              " 'totally': 614,\n",
              " 'sandals': 615,\n",
              " 'booties': 616,\n",
              " 'flare': 617,\n",
              " 'shows': 618,\n",
              " 'mid': 619,\n",
              " 'leg': 620,\n",
              " 'weird': 621,\n",
              " 'texture': 622,\n",
              " 'second': 623,\n",
              " 'form': 624,\n",
              " 'jean': 625,\n",
              " 'knees': 626,\n",
              " 'wool': 627,\n",
              " \"there's\": 628,\n",
              " 'stiff': 629,\n",
              " 'jumpsuit': 630,\n",
              " 'read': 631,\n",
              " 'cream': 632,\n",
              " 'clothes': 633,\n",
              " 'often': 634,\n",
              " 'knew': 635,\n",
              " 'worried': 636,\n",
              " 'ok': 637,\n",
              " 'used': 638,\n",
              " 'curves': 639,\n",
              " 'months': 640,\n",
              " 'finally': 641,\n",
              " 'else': 642,\n",
              " 'neutral': 643,\n",
              " 'people': 644,\n",
              " 'slimming': 645,\n",
              " 'incredibly': 646,\n",
              " 'layering': 647,\n",
              " 'interesting': 648,\n",
              " 'odd': 649,\n",
              " 'thinking': 650,\n",
              " 'eye': 651,\n",
              " 'broad': 652,\n",
              " 'awesome': 653,\n",
              " 'basic': 654,\n",
              " 'similar': 655,\n",
              " 'half': 656,\n",
              " 'linen': 657,\n",
              " 'prefer': 658,\n",
              " '120': 659,\n",
              " 'clothing': 660,\n",
              " 'fact': 661,\n",
              " 'sexy': 662,\n",
              " 'hope': 663,\n",
              " 'throw': 664,\n",
              " 'wrong': 665,\n",
              " 'mind': 666,\n",
              " 'substantial': 667,\n",
              " 'flats': 668,\n",
              " 'hourglass': 669,\n",
              " 'brown': 670,\n",
              " 'bulky': 671,\n",
              " 'inside': 672,\n",
              " 'gotten': 673,\n",
              " 'amount': 674,\n",
              " 'dressy': 675,\n",
              " 'elegant': 676,\n",
              " 'gave': 677,\n",
              " 'deep': 678,\n",
              " 'hip': 679,\n",
              " 'sweaters': 680,\n",
              " 'outfit': 681,\n",
              " 'b': 682,\n",
              " 'upper': 683,\n",
              " 'rich': 684,\n",
              " 'addition': 685,\n",
              " 'closet': 686,\n",
              " 'maternity': 687,\n",
              " 'c': 688,\n",
              " 'next': 689,\n",
              " 'appears': 690,\n",
              " '30': 691,\n",
              " 'armholes': 692,\n",
              " 'flow': 693,\n",
              " 'point': 694,\n",
              " 'couple': 695,\n",
              " 'home': 696,\n",
              " 'reason': 697,\n",
              " 'during': 698,\n",
              " 'close': 699,\n",
              " 'appropriate': 700,\n",
              " 'mail': 701,\n",
              " '25': 702,\n",
              " 'subtle': 703,\n",
              " 'soon': 704,\n",
              " 'justice': 705,\n",
              " 'depending': 706,\n",
              " '135': 707,\n",
              " 'except': 708,\n",
              " '34b': 709,\n",
              " 'tell': 710,\n",
              " 'her': 711,\n",
              " 'washing': 712,\n",
              " 'stripes': 713,\n",
              " 'expect': 714,\n",
              " 'thicker': 715,\n",
              " 'thighs': 716,\n",
              " 'rise': 717,\n",
              " 'somewhat': 718,\n",
              " 'until': 719,\n",
              " 'detailing': 720,\n",
              " 'sad': 721,\n",
              " 'colored': 722,\n",
              " 'left': 723,\n",
              " 'nude': 724,\n",
              " 'peplum': 725,\n",
              " 'baby': 726,\n",
              " 'hang': 727,\n",
              " 'complaint': 728,\n",
              " 'pant': 729,\n",
              " 'hand': 730,\n",
              " 'seam': 731,\n",
              " 'silk': 732,\n",
              " 'purple': 733,\n",
              " 'yes': 734,\n",
              " 'forward': 735,\n",
              " 'case': 736,\n",
              " 'pleased': 737,\n",
              " '34c': 738,\n",
              " 'exchange': 739,\n",
              " 'build': 740,\n",
              " '125': 741,\n",
              " 'cannot': 742,\n",
              " '140': 743,\n",
              " 'w': 744,\n",
              " 'perhaps': 745,\n",
              " 'looser': 746,\n",
              " 'anyway': 747,\n",
              " 'idea': 748,\n",
              " 'tent': 749,\n",
              " 'expecting': 750,\n",
              " 'hold': 751,\n",
              " 'fairly': 752,\n",
              " 'product': 753,\n",
              " 'bodice': 754,\n",
              " 'place': 755,\n",
              " 'flows': 756,\n",
              " 'taller': 757,\n",
              " \"haven't\": 758,\n",
              " 'fan': 759,\n",
              " 'middle': 760,\n",
              " 'everywhere': 761,\n",
              " 'together': 762,\n",
              " '130': 763,\n",
              " 'darker': 764,\n",
              " 'bottoms': 765,\n",
              " 'deal': 766,\n",
              " 'blazer': 767,\n",
              " 'hung': 768,\n",
              " 'classy': 769,\n",
              " 'real': 770,\n",
              " 'maeve': 771,\n",
              " 'truly': 772,\n",
              " 'awkward': 773,\n",
              " 'added': 774,\n",
              " 'slight': 775,\n",
              " 'pieces': 776,\n",
              " 'along': 777,\n",
              " 'barely': 778,\n",
              " 'floral': 779,\n",
              " 'spot': 780,\n",
              " 'narrow': 781,\n",
              " 'inch': 782,\n",
              " 'gold': 783,\n",
              " 'zip': 784,\n",
              " 'office': 785,\n",
              " 'typical': 786,\n",
              " 'gone': 787,\n",
              " 'fabulous': 788,\n",
              " 'sweatshirt': 789,\n",
              " 'heavier': 790,\n",
              " 'motif': 791,\n",
              " 'butt': 792,\n",
              " 'chic': 793,\n",
              " 'old': 794,\n",
              " 'three': 795,\n",
              " 'band': 796,\n",
              " 'feeling': 797,\n",
              " 'opinion': 798,\n",
              " 'sort': 799,\n",
              " 'items': 800,\n",
              " '34': 801,\n",
              " 'imagine': 802,\n",
              " 'tag': 803,\n",
              " 'fantastic': 804,\n",
              " 'romper': 805,\n",
              " 'live': 806,\n",
              " 'issues': 807,\n",
              " 'past': 808,\n",
              " 'pulled': 809,\n",
              " 'noticed': 810,\n",
              " 'waistband': 811,\n",
              " 'anyone': 812,\n",
              " 'tummy': 813,\n",
              " 'whole': 814,\n",
              " 'showing': 815,\n",
              " 'we': 816,\n",
              " '34d': 817,\n",
              " 'stitching': 818,\n",
              " 'seen': 819,\n",
              " 'reading': 820,\n",
              " 'itself': 821,\n",
              " 'seams': 822,\n",
              " 'belly': 823,\n",
              " 'places': 824,\n",
              " 'unless': 825,\n",
              " '14': 826,\n",
              " 'meant': 827,\n",
              " 'leather': 828,\n",
              " 'lay': 829,\n",
              " 'sewn': 830,\n",
              " 'pairs': 831,\n",
              " 'chested': 832,\n",
              " 'styling': 833,\n",
              " 'strange': 834,\n",
              " 'says': 835,\n",
              " 'needs': 836,\n",
              " 'running': 837,\n",
              " 'each': 838,\n",
              " 'comfort': 839,\n",
              " 'coverage': 840,\n",
              " 'weekend': 841,\n",
              " 'lighter': 842,\n",
              " '100': 843,\n",
              " \"5'10\": 844,\n",
              " 'party': 845,\n",
              " 'generally': 846,\n",
              " 'women': 847,\n",
              " '29': 848,\n",
              " 'transition': 849,\n",
              " 'scratchy': 850,\n",
              " 'excellent': 851,\n",
              " 'rest': 852,\n",
              " 'necklace': 853,\n",
              " 'please': 854,\n",
              " 'done': 855,\n",
              " 'clingy': 856,\n",
              " 'relaxed': 857,\n",
              " 'husband': 858,\n",
              " 'believe': 859,\n",
              " 'stay': 860,\n",
              " 'pregnant': 861,\n",
              " 'wider': 862,\n",
              " 'stars': 863,\n",
              " 'glove': 864,\n",
              " 'beach': 865,\n",
              " 'frumpy': 866,\n",
              " 'height': 867,\n",
              " 'caught': 868,\n",
              " 'girls': 869,\n",
              " 'cup': 870,\n",
              " 'tucked': 871,\n",
              " 'difficult': 872,\n",
              " 'slender': 873,\n",
              " 'portion': 874,\n",
              " 'ago': 875,\n",
              " \"aren't\": 876,\n",
              " 'dinner': 877,\n",
              " 'chance': 878,\n",
              " 'lines': 879,\n",
              " 'sack': 880,\n",
              " 'airy': 881,\n",
              " 'help': 882,\n",
              " 'coral': 883,\n",
              " 'girl': 884,\n",
              " 'finding': 885,\n",
              " 'seasons': 886,\n",
              " 'forgiving': 887,\n",
              " 'bag': 888,\n",
              " 'house': 889,\n",
              " 'slits': 890,\n",
              " 'plenty': 891,\n",
              " 'shaped': 892,\n",
              " 'silhouette': 893,\n",
              " 'expensive': 894,\n",
              " 'care': 895,\n",
              " 'simply': 896,\n",
              " 'tailored': 897,\n",
              " 'maxi': 898,\n",
              " 'clean': 899,\n",
              " 'everyone': 900,\n",
              " 'money': 901,\n",
              " 'camisole': 902,\n",
              " 'd': 903,\n",
              " '39': 904,\n",
              " 'description': 905,\n",
              " 'prettier': 906,\n",
              " 'keeper': 907,\n",
              " 'stock': 908,\n",
              " 'p': 909,\n",
              " 'stomach': 910,\n",
              " 'solid': 911,\n",
              " '36': 912,\n",
              " 'pear': 913,\n",
              " 'pleats': 914,\n",
              " 'hide': 915,\n",
              " 'swingy': 916,\n",
              " 'silky': 917,\n",
              " 'etc': 918,\n",
              " 'option': 919,\n",
              " '38': 920,\n",
              " 'wow': 921,\n",
              " 'cooler': 922,\n",
              " 'shade': 923,\n",
              " 'structured': 924,\n",
              " 'guess': 925,\n",
              " 'life': 926,\n",
              " '40': 927,\n",
              " 'thigh': 928,\n",
              " 'adore': 929,\n",
              " 'given': 930,\n",
              " 'hanging': 931,\n",
              " 'average': 932,\n",
              " 'natural': 933,\n",
              " 'despite': 934,\n",
              " 'send': 935,\n",
              " 'website': 936,\n",
              " 'ladies': 937,\n",
              " 'round': 938,\n",
              " 'wrinkle': 939,\n",
              " 'note': 940,\n",
              " 'yesterday': 941,\n",
              " 'hole': 942,\n",
              " 'beige': 943,\n",
              " 'purchasing': 944,\n",
              " 'plaid': 945,\n",
              " 'uncomfortable': 946,\n",
              " 'polyester': 947,\n",
              " 'pencil': 948,\n",
              " 'considering': 949,\n",
              " 'disappointing': 950,\n",
              " 'originally': 951,\n",
              " 'jackets': 952,\n",
              " '32': 953,\n",
              " 'plain': 954,\n",
              " 'daughter': 955,\n",
              " 'surprise': 956,\n",
              " 'dressing': 957,\n",
              " 'ruffle': 958,\n",
              " 'recently': 959,\n",
              " 'layered': 960,\n",
              " 'beading': 961,\n",
              " 'patterns': 962,\n",
              " 'oh': 963,\n",
              " '36c': 964,\n",
              " 'afraid': 965,\n",
              " 'flowers': 966,\n",
              " 'sit': 967,\n",
              " 'ag': 968,\n",
              " 'hanger': 969,\n",
              " 'shapeless': 970,\n",
              " 'flowing': 971,\n",
              " 'pass': 972,\n",
              " 'pricey': 973,\n",
              " 'designed': 974,\n",
              " 'layers': 975,\n",
              " 'ways': 976,\n",
              " 'poor': 977,\n",
              " 'us': 978,\n",
              " 'swimming': 979,\n",
              " 'tend': 980,\n",
              " 'sent': 981,\n",
              " 'week': 982,\n",
              " 'pay': 983,\n",
              " 'sweet': 984,\n",
              " 'covers': 985,\n",
              " 'pale': 986,\n",
              " 'hides': 987,\n",
              " 'holiday': 988,\n",
              " 'stretched': 989,\n",
              " 'slit': 990,\n",
              " 'let': 991,\n",
              " 'snag': 992,\n",
              " 'stated': 993,\n",
              " 'okay': 994,\n",
              " 'twice': 995,\n",
              " 'everyday': 996,\n",
              " 'coming': 997,\n",
              " 'machine': 998,\n",
              " 'flares': 999,\n",
              " 'receive': 1000,\n",
              " ...}"
            ]
          },
          "metadata": {},
          "execution_count": 15
        }
      ]
    },
    {
      "cell_type": "code",
      "metadata": {
        "id": "AvWzzSretQXf"
      },
      "source": [
        "# Alumno: Convertir las palabras/tokens a números\n",
        "sequences = tok.texts_to_sequences(text_sequences)"
      ],
      "execution_count": 16,
      "outputs": []
    },
    {
      "cell_type": "code",
      "metadata": {
        "id": "za73M5SRtbrP",
        "colab": {
          "base_uri": "https://localhost:8080/"
        },
        "outputId": "477a3c60-499a-4b1e-a9c5-456773fcadcb"
      },
      "source": [
        "# Alumno: Determinar cual es la oración más larga\n",
        "max(len(s) for s in sequences)"
      ],
      "execution_count": 17,
      "outputs": [
        {
          "output_type": "execute_result",
          "data": {
            "text/plain": [
              "115"
            ]
          },
          "metadata": {},
          "execution_count": 17
        }
      ]
    },
    {
      "cell_type": "markdown",
      "metadata": {
        "id": "1zKLlL_5G_JJ"
      },
      "source": [
        "Esta bien el tamaño, nuestra RAM está protegida. Nos quedamos con este tamaño de informacion, y el padding lo limitamos a ese largo para las demás. "
      ]
    },
    {
      "cell_type": "code",
      "metadata": {
        "id": "oCkO9Wc9tls1"
      },
      "source": [
        "# Alumno: Realizar padding de las sentencias al mismo tamaño\n",
        "# tomando de referencia la máxima sentencia\n",
        "from keras.preprocessing.sequence import pad_sequences\n",
        "maxlen = 115"
      ],
      "execution_count": 18,
      "outputs": []
    },
    {
      "cell_type": "code",
      "metadata": {
        "id": "cwphPWAkGZhO"
      },
      "source": [
        "# Al realizar padding obtener la variable \"X\" (input)\n",
        "X = pad_sequences(sequences, padding='pre', maxlen=maxlen) #ponemos los ceros a izquierda"
      ],
      "execution_count": 19,
      "outputs": []
    },
    {
      "cell_type": "code",
      "metadata": {
        "id": "kGHHabVdt_aa",
        "colab": {
          "base_uri": "https://localhost:8080/"
        },
        "outputId": "0833ad1d-7812-4261-dc61-1d6effcad97c"
      },
      "source": [
        "# Alumno: Observar las dimensiones de la variable input\n",
        "X.shape"
      ],
      "execution_count": 20,
      "outputs": [
        {
          "output_type": "execute_result",
          "data": {
            "text/plain": [
              "(22641, 115)"
            ]
          },
          "metadata": {},
          "execution_count": 20
        }
      ]
    },
    {
      "cell_type": "markdown",
      "metadata": {
        "id": "S_SRNN-NHPhf"
      },
      "source": [
        "Son 22641 documentos, todos ahora con el mismo tamaño."
      ]
    },
    {
      "cell_type": "code",
      "metadata": {
        "id": "llVM-tzQo9_F",
        "colab": {
          "base_uri": "https://localhost:8080/"
        },
        "outputId": "ddf86626-e378-4640-a1d8-129b4e450b7c"
      },
      "source": [
        "# Alumno tomar la columna rating y alcemacenarla en una variable \"y\" transformada a oneHotEncoding\n",
        "# Su shape debe ser equivalente la cantidad de rows del corpus y a la cantidad de clases que se deseen predecir\n",
        "# cantidad de palabras definidas para el vocabulario (vocab_size) (en este ejemplo 5)\n",
        "\n",
        "y = pd.get_dummies(df_reviews.Rating, prefix='Rating')\n",
        "print(y.shape)\n"
      ],
      "execution_count": 21,
      "outputs": [
        {
          "output_type": "stream",
          "name": "stdout",
          "text": [
            "(22641, 5)\n"
          ]
        }
      ]
    },
    {
      "cell_type": "code",
      "metadata": {
        "id": "Rmz9A6n4uK4V"
      },
      "source": [
        "# Alumno: Dividir los datos en train y test\n",
        "from sklearn.model_selection import train_test_split\n",
        "X_train, X_test, y_train, y_test = train_test_split(X, y, test_size=0.2, random_state=42)"
      ],
      "execution_count": 22,
      "outputs": []
    },
    {
      "cell_type": "code",
      "metadata": {
        "id": "EcDPlhEouQ9E",
        "colab": {
          "base_uri": "https://localhost:8080/"
        },
        "outputId": "e52d9864-b1f6-452b-99ed-2a4f71331e32"
      },
      "source": [
        "# Alumno: determinar la dimensiones de entrada y salida\n",
        "\n",
        "# Alumno: determinar la dimensiones de entrada y salida\n",
        "in_shape = X_train.shape[1] # max input sentence len\n",
        "out_shape = y_train.shape[1] # multi class classification\n",
        "print(\"in_shape\", in_shape, \", out_shape\", out_shape)"
      ],
      "execution_count": 23,
      "outputs": [
        {
          "output_type": "stream",
          "name": "stdout",
          "text": [
            "in_shape 115 , out_shape 5\n"
          ]
        }
      ]
    },
    {
      "cell_type": "markdown",
      "metadata": {
        "id": "NpbQHExL6OTu"
      },
      "source": [
        "### 2 - Entrenar el modelo con Embeddings + LSTM"
      ]
    },
    {
      "cell_type": "code",
      "metadata": {
        "id": "NUkuWBsM6cx3"
      },
      "source": [
        "# Alumno: Entrene su modelo con LSTM entrenando sus propios embeddings\n",
        "# o utilizando embeddings pre-entrenados.\n",
        "from keras.layers import LSTM\n",
        "from keras.layers import Embedding\n",
        "from keras.layers import Dropout"
      ],
      "execution_count": 24,
      "outputs": []
    },
    {
      "cell_type": "code",
      "metadata": {
        "colab": {
          "base_uri": "https://localhost:8080/"
        },
        "id": "sICQ3iK8JcWN",
        "outputId": "8d917584-fccf-4ade-bb04-9489942c8ed5"
      },
      "source": [
        "model = Sequential()\n",
        "# input_dim = vocab_size (max n_words) Sería el máximo ID que puede recibir el sistema. vocab_size + 1 porque el ID = 0 corresponde a la \"no palabra\"\n",
        "# input_length = setencias con padding a 200\n",
        "# output_dim = 25 --> crear embeddings de tamaño 25. El número es mayor mientras mayor sea la cantidad de filas que tenemos \n",
        "model.add(Embedding(input_dim=vocab_size+1, output_dim=25, input_length=in_shape))\n",
        "model.add(LSTM(units=64, return_sequences=True))  #se pone True porque tengo más de una capa LSTM\n",
        "model.add(Dropout(0.2)) #para regularizar un poco\n",
        "model.add(LSTM(units=64)) # La última capa LSTM no lleva return_sequences\n",
        "\n",
        "model.add(Dense(units=128, activation='relu'))\n",
        "model.add(Dropout(rate=0.2))\n",
        "model.add(Dense(units=out_shape, activation='sigmoid'))\n",
        "\n",
        "model.compile(optimizer=\"adam\",\n",
        "              loss='binary_crossentropy',\n",
        "              metrics=['accuracy'])\n",
        "\n",
        "model.summary()"
      ],
      "execution_count": 25,
      "outputs": [
        {
          "output_type": "stream",
          "name": "stdout",
          "text": [
            "Model: \"sequential\"\n",
            "_________________________________________________________________\n",
            "Layer (type)                 Output Shape              Param #   \n",
            "=================================================================\n",
            "embedding (Embedding)        (None, 115, 25)           37525     \n",
            "_________________________________________________________________\n",
            "lstm (LSTM)                  (None, 115, 64)           23040     \n",
            "_________________________________________________________________\n",
            "dropout (Dropout)            (None, 115, 64)           0         \n",
            "_________________________________________________________________\n",
            "lstm_1 (LSTM)                (None, 64)                33024     \n",
            "_________________________________________________________________\n",
            "dense (Dense)                (None, 128)               8320      \n",
            "_________________________________________________________________\n",
            "dropout_1 (Dropout)          (None, 128)               0         \n",
            "_________________________________________________________________\n",
            "dense_1 (Dense)              (None, 5)                 645       \n",
            "=================================================================\n",
            "Total params: 102,554\n",
            "Trainable params: 102,554\n",
            "Non-trainable params: 0\n",
            "_________________________________________________________________\n"
          ]
        }
      ]
    },
    {
      "cell_type": "code",
      "metadata": {
        "colab": {
          "base_uri": "https://localhost:8080/",
          "height": 865
        },
        "id": "iTgA8YpRJfPj",
        "outputId": "926402a6-f7ce-430d-b31b-42d633246529"
      },
      "source": [
        "from keras.utils.vis_utils import plot_model\n",
        "plot_model(model, to_file='model_plot.png', show_shapes=True, show_layer_names=True)"
      ],
      "execution_count": 26,
      "outputs": [
        {
          "output_type": "execute_result",
          "data": {
            "image/png": "[encoded data removed]",
            "text/plain": [
              "<IPython.core.display.Image object>"
            ]
          },
          "metadata": {},
          "execution_count": 26
        }
      ]
    },
    {
      "cell_type": "code",
      "metadata": {
        "colab": {
          "base_uri": "https://localhost:8080/"
        },
        "id": "7K8-rdiLKegt",
        "outputId": "8fc2e529-c1b1-4633-c053-a62f72e479ef"
      },
      "source": [
        "  hist = model.fit(X_train, y_train, epochs=5, validation_split=0.2)"
      ],
      "execution_count": 27,
      "outputs": [
        {
          "output_type": "stream",
          "name": "stdout",
          "text": [
            "Epoch 1/5\n",
            "453/453 [==============================] - 34s 57ms/step - loss: 0.4076 - accuracy: 0.5520 - val_loss: 0.3717 - val_accuracy: 0.5639\n",
            "Epoch 2/5\n",
            "453/453 [==============================] - 25s 56ms/step - loss: 0.3278 - accuracy: 0.5966 - val_loss: 0.3185 - val_accuracy: 0.6150\n",
            "Epoch 3/5\n",
            "453/453 [==============================] - 25s 56ms/step - loss: 0.3037 - accuracy: 0.6274 - val_loss: 0.3117 - val_accuracy: 0.6210\n",
            "Epoch 4/5\n",
            "453/453 [==============================] - 25s 55ms/step - loss: 0.2923 - accuracy: 0.6451 - val_loss: 0.3108 - val_accuracy: 0.6172\n",
            "Epoch 5/5\n",
            "453/453 [==============================] - 25s 55ms/step - loss: 0.2837 - accuracy: 0.6526 - val_loss: 0.3131 - val_accuracy: 0.6139\n"
          ]
        }
      ]
    },
    {
      "cell_type": "code",
      "metadata": {
        "colab": {
          "base_uri": "https://localhost:8080/",
          "height": 265
        },
        "id": "MmedHjLIK2bv",
        "outputId": "dbd1bca8-4257-4b39-cf58-92d2d5748e4e"
      },
      "source": [
        "import matplotlib.pyplot as plt\n",
        "import seaborn as sns\n",
        "epoch_count = range(1, len(hist.history['accuracy']) + 1)\n",
        "sns.lineplot(x=epoch_count,  y=hist.history['accuracy'], label='train')\n",
        "sns.lineplot(x=epoch_count,  y=hist.history['val_accuracy'], label='valid')\n",
        "plt.show()"
      ],
      "execution_count": 28,
      "outputs": [
        {
          "output_type": "display_data",
          "data": {
            "image/png": "[encoded data removed]",
            "text/plain": [
              "<Figure size 432x288 with 1 Axes>"
            ]
          },
          "metadata": {
            "needs_background": "light"
          }
        }
      ]
    },
    {
      "cell_type": "code",
      "metadata": {
        "colab": {
          "base_uri": "https://localhost:8080/"
        },
        "id": "ivRqVLOrLhBl",
        "outputId": "f93b2176-ea5b-450b-dfb8-797cd5e42923"
      },
      "source": [
        "model.evaluate(X_test, y_test)"
      ],
      "execution_count": 29,
      "outputs": [
        {
          "output_type": "stream",
          "name": "stdout",
          "text": [
            "142/142 [==============================] - 3s 19ms/step - loss: 0.2978 - accuracy: 0.6388\n"
          ]
        },
        {
          "output_type": "execute_result",
          "data": {
            "text/plain": [
              "[0.2977997362613678, 0.6387723684310913]"
            ]
          },
          "metadata": {},
          "execution_count": 29
        }
      ]
    },
    {
      "cell_type": "markdown",
      "metadata": {
        "id": "-1Exzm_vS9Ay"
      },
      "source": [
        "Comentarios finales: \n",
        "\n",
        "1 - el modelo dio un poco menos de accuracy con embeddings de 25 que con 50. Se podría probar con valores mayores a ver si mejoran los resultados.\n",
        "\n",
        "2 - a partir de la época 3 empieza a hacer overfitting. \n",
        "\n",
        "3 - con mayor RAM se podría usar un vocabulario mayor, y mejorar los resultados. \n",
        "\n",
        "4 - Se pueden tomar embedding pre-entrenados, donde, si el contexto es medianamente parecido al actual, los resultos podrían ser mejores. Por ejemplo, con los de Glove o con los de Fasttext"
      ]
    },
    {
      "cell_type": "code",
      "metadata": {
        "id": "N2OMmvbyT1t5"
      },
      "source": [
        ""
      ],
      "execution_count": null,
      "outputs": []
    }
  ]
}